{
    "metadata": {
        "kernelspec": {
            "name": "SQL",
            "display_name": "SQL",
            "language": "sql"
        },
        "language_info": {
            "name": "sql",
            "version": ""
        }
    },
    "nbformat_minor": 2,
    "nbformat": 4,
    "cells": [
        {
            "cell_type": "code",
            "source": [
                "SELECT SZOBA_ID, COUNT(*) AS \"DB\"\r\n",
                "FROM Szoba sz LEFT JOIN Foglalas f ON sz.SZOBA_ID = f.SZOBA_FK\r\n",
                "GROUP BY sz.SZOBA_ID"
            ],
            "metadata": {
                "azdata_cell_guid": "650d6687-81fa-40f6-896e-cdda6dde0ab8",
                "language": "sql",
                "tags": []
            },
            "outputs": [
                {
                    "output_type": "display_data",
                    "data": {
                        "text/html": "(294 rows affected)"
                    },
                    "metadata": {}
                },
                {
                    "output_type": "display_data",
                    "data": {
                        "text/html": "Total execution time: 00:00:00.010"
                    },
                    "metadata": {}
                },
                {
                    "output_type": "execute_result",
                    "metadata": {},
                    "execution_count": 11,
                    "data": {
                        "application/vnd.dataresource+json": {
                            "schema": {
                                "fields": [
                                    {
                                        "name": "SZOBA_ID"
                                    },
                                    {
                                        "name": "DB"
                                    }
                                ]
                            },
                            "data": [
                                {
                                    "SZOBA_ID": "1",
                                    "DB": "8"
                                },
                                {
                                    "SZOBA_ID": "2",
                                    "DB": "4"
                                },
                                {
                                    "SZOBA_ID": "3",
                                    "DB": "8"
                                },
                                {
                                    "SZOBA_ID": "4",
                                    "DB": "6"
                                },
                                {
                                    "SZOBA_ID": "5",
                                    "DB": "4"
                                },
                                {
                                    "SZOBA_ID": "6",
                                    "DB": "6"
                                },
                                {
                                    "SZOBA_ID": "7",
                                    "DB": "6"
                                },
                                {
                                    "SZOBA_ID": "8",
                                    "DB": "5"
                                },
                                {
                                    "SZOBA_ID": "9",
                                    "DB": "6"
                                },
                                {
                                    "SZOBA_ID": "10",
                                    "DB": "4"
                                },
                                {
                                    "SZOBA_ID": "11",
                                    "DB": "4"
                                },
                                {
                                    "SZOBA_ID": "12",
                                    "DB": "9"
                                },
                                {
                                    "SZOBA_ID": "13",
                                    "DB": "4"
                                },
                                {
                                    "SZOBA_ID": "14",
                                    "DB": "3"
                                },
                                {
                                    "SZOBA_ID": "15",
                                    "DB": "6"
                                },
                                {
                                    "SZOBA_ID": "16",
                                    "DB": "5"
                                },
                                {
                                    "SZOBA_ID": "17",
                                    "DB": "6"
                                },
                                {
                                    "SZOBA_ID": "18",
                                    "DB": "6"
                                },
                                {
                                    "SZOBA_ID": "19",
                                    "DB": "6"
                                },
                                {
                                    "SZOBA_ID": "20",
                                    "DB": "5"
                                },
                                {
                                    "SZOBA_ID": "21",
                                    "DB": "4"
                                },
                                {
                                    "SZOBA_ID": "22",
                                    "DB": "6"
                                },
                                {
                                    "SZOBA_ID": "23",
                                    "DB": "3"
                                },
                                {
                                    "SZOBA_ID": "24",
                                    "DB": "3"
                                },
                                {
                                    "SZOBA_ID": "25",
                                    "DB": "2"
                                },
                                {
                                    "SZOBA_ID": "26",
                                    "DB": "2"
                                },
                                {
                                    "SZOBA_ID": "27",
                                    "DB": "7"
                                },
                                {
                                    "SZOBA_ID": "28",
                                    "DB": "6"
                                },
                                {
                                    "SZOBA_ID": "29",
                                    "DB": "6"
                                },
                                {
                                    "SZOBA_ID": "30",
                                    "DB": "3"
                                },
                                {
                                    "SZOBA_ID": "31",
                                    "DB": "3"
                                },
                                {
                                    "SZOBA_ID": "32",
                                    "DB": "1"
                                },
                                {
                                    "SZOBA_ID": "33",
                                    "DB": "6"
                                },
                                {
                                    "SZOBA_ID": "34",
                                    "DB": "4"
                                },
                                {
                                    "SZOBA_ID": "35",
                                    "DB": "9"
                                },
                                {
                                    "SZOBA_ID": "36",
                                    "DB": "6"
                                },
                                {
                                    "SZOBA_ID": "37",
                                    "DB": "3"
                                },
                                {
                                    "SZOBA_ID": "38",
                                    "DB": "8"
                                },
                                {
                                    "SZOBA_ID": "39",
                                    "DB": "7"
                                },
                                {
                                    "SZOBA_ID": "40",
                                    "DB": "4"
                                },
                                {
                                    "SZOBA_ID": "41",
                                    "DB": "2"
                                },
                                {
                                    "SZOBA_ID": "42",
                                    "DB": "6"
                                },
                                {
                                    "SZOBA_ID": "43",
                                    "DB": "8"
                                },
                                {
                                    "SZOBA_ID": "44",
                                    "DB": "6"
                                },
                                {
                                    "SZOBA_ID": "45",
                                    "DB": "5"
                                },
                                {
                                    "SZOBA_ID": "46",
                                    "DB": "4"
                                },
                                {
                                    "SZOBA_ID": "47",
                                    "DB": "2"
                                },
                                {
                                    "SZOBA_ID": "48",
                                    "DB": "9"
                                },
                                {
                                    "SZOBA_ID": "49",
                                    "DB": "7"
                                },
                                {
                                    "SZOBA_ID": "50",
                                    "DB": "4"
                                },
                                {
                                    "SZOBA_ID": "51",
                                    "DB": "5"
                                },
                                {
                                    "SZOBA_ID": "52",
                                    "DB": "5"
                                },
                                {
                                    "SZOBA_ID": "53",
                                    "DB": "2"
                                },
                                {
                                    "SZOBA_ID": "54",
                                    "DB": "6"
                                },
                                {
                                    "SZOBA_ID": "55",
                                    "DB": "8"
                                },
                                {
                                    "SZOBA_ID": "56",
                                    "DB": "2"
                                },
                                {
                                    "SZOBA_ID": "57",
                                    "DB": "4"
                                },
                                {
                                    "SZOBA_ID": "58",
                                    "DB": "13"
                                },
                                {
                                    "SZOBA_ID": "59",
                                    "DB": "7"
                                },
                                {
                                    "SZOBA_ID": "60",
                                    "DB": "1"
                                },
                                {
                                    "SZOBA_ID": "61",
                                    "DB": "5"
                                },
                                {
                                    "SZOBA_ID": "62",
                                    "DB": "5"
                                },
                                {
                                    "SZOBA_ID": "63",
                                    "DB": "4"
                                },
                                {
                                    "SZOBA_ID": "64",
                                    "DB": "6"
                                },
                                {
                                    "SZOBA_ID": "65",
                                    "DB": "1"
                                },
                                {
                                    "SZOBA_ID": "66",
                                    "DB": "4"
                                },
                                {
                                    "SZOBA_ID": "67",
                                    "DB": "6"
                                },
                                {
                                    "SZOBA_ID": "68",
                                    "DB": "3"
                                },
                                {
                                    "SZOBA_ID": "69",
                                    "DB": "4"
                                },
                                {
                                    "SZOBA_ID": "70",
                                    "DB": "11"
                                },
                                {
                                    "SZOBA_ID": "71",
                                    "DB": "3"
                                },
                                {
                                    "SZOBA_ID": "72",
                                    "DB": "4"
                                },
                                {
                                    "SZOBA_ID": "73",
                                    "DB": "4"
                                },
                                {
                                    "SZOBA_ID": "74",
                                    "DB": "9"
                                },
                                {
                                    "SZOBA_ID": "75",
                                    "DB": "3"
                                },
                                {
                                    "SZOBA_ID": "76",
                                    "DB": "3"
                                },
                                {
                                    "SZOBA_ID": "77",
                                    "DB": "6"
                                },
                                {
                                    "SZOBA_ID": "78",
                                    "DB": "6"
                                },
                                {
                                    "SZOBA_ID": "79",
                                    "DB": "5"
                                },
                                {
                                    "SZOBA_ID": "80",
                                    "DB": "7"
                                },
                                {
                                    "SZOBA_ID": "81",
                                    "DB": "5"
                                },
                                {
                                    "SZOBA_ID": "82",
                                    "DB": "6"
                                },
                                {
                                    "SZOBA_ID": "83",
                                    "DB": "8"
                                },
                                {
                                    "SZOBA_ID": "84",
                                    "DB": "4"
                                },
                                {
                                    "SZOBA_ID": "85",
                                    "DB": "4"
                                },
                                {
                                    "SZOBA_ID": "86",
                                    "DB": "5"
                                },
                                {
                                    "SZOBA_ID": "87",
                                    "DB": "5"
                                },
                                {
                                    "SZOBA_ID": "88",
                                    "DB": "8"
                                },
                                {
                                    "SZOBA_ID": "89",
                                    "DB": "8"
                                },
                                {
                                    "SZOBA_ID": "90",
                                    "DB": "4"
                                },
                                {
                                    "SZOBA_ID": "91",
                                    "DB": "4"
                                },
                                {
                                    "SZOBA_ID": "92",
                                    "DB": "6"
                                },
                                {
                                    "SZOBA_ID": "93",
                                    "DB": "5"
                                },
                                {
                                    "SZOBA_ID": "94",
                                    "DB": "10"
                                },
                                {
                                    "SZOBA_ID": "95",
                                    "DB": "4"
                                },
                                {
                                    "SZOBA_ID": "96",
                                    "DB": "7"
                                },
                                {
                                    "SZOBA_ID": "97",
                                    "DB": "7"
                                },
                                {
                                    "SZOBA_ID": "98",
                                    "DB": "4"
                                },
                                {
                                    "SZOBA_ID": "99",
                                    "DB": "5"
                                },
                                {
                                    "SZOBA_ID": "100",
                                    "DB": "4"
                                },
                                {
                                    "SZOBA_ID": "101",
                                    "DB": "3"
                                },
                                {
                                    "SZOBA_ID": "102",
                                    "DB": "2"
                                },
                                {
                                    "SZOBA_ID": "103",
                                    "DB": "4"
                                },
                                {
                                    "SZOBA_ID": "104",
                                    "DB": "4"
                                },
                                {
                                    "SZOBA_ID": "105",
                                    "DB": "2"
                                },
                                {
                                    "SZOBA_ID": "106",
                                    "DB": "6"
                                },
                                {
                                    "SZOBA_ID": "107",
                                    "DB": "5"
                                },
                                {
                                    "SZOBA_ID": "108",
                                    "DB": "2"
                                },
                                {
                                    "SZOBA_ID": "109",
                                    "DB": "7"
                                },
                                {
                                    "SZOBA_ID": "110",
                                    "DB": "8"
                                },
                                {
                                    "SZOBA_ID": "111",
                                    "DB": "5"
                                },
                                {
                                    "SZOBA_ID": "112",
                                    "DB": "5"
                                },
                                {
                                    "SZOBA_ID": "113",
                                    "DB": "5"
                                },
                                {
                                    "SZOBA_ID": "114",
                                    "DB": "4"
                                },
                                {
                                    "SZOBA_ID": "115",
                                    "DB": "7"
                                },
                                {
                                    "SZOBA_ID": "116",
                                    "DB": "2"
                                },
                                {
                                    "SZOBA_ID": "117",
                                    "DB": "8"
                                },
                                {
                                    "SZOBA_ID": "118",
                                    "DB": "7"
                                },
                                {
                                    "SZOBA_ID": "119",
                                    "DB": "5"
                                },
                                {
                                    "SZOBA_ID": "120",
                                    "DB": "6"
                                },
                                {
                                    "SZOBA_ID": "121",
                                    "DB": "8"
                                },
                                {
                                    "SZOBA_ID": "122",
                                    "DB": "9"
                                },
                                {
                                    "SZOBA_ID": "123",
                                    "DB": "5"
                                },
                                {
                                    "SZOBA_ID": "124",
                                    "DB": "6"
                                },
                                {
                                    "SZOBA_ID": "125",
                                    "DB": "1"
                                },
                                {
                                    "SZOBA_ID": "126",
                                    "DB": "6"
                                },
                                {
                                    "SZOBA_ID": "127",
                                    "DB": "7"
                                },
                                {
                                    "SZOBA_ID": "128",
                                    "DB": "5"
                                },
                                {
                                    "SZOBA_ID": "129",
                                    "DB": "4"
                                },
                                {
                                    "SZOBA_ID": "130",
                                    "DB": "6"
                                },
                                {
                                    "SZOBA_ID": "131",
                                    "DB": "5"
                                },
                                {
                                    "SZOBA_ID": "132",
                                    "DB": "6"
                                },
                                {
                                    "SZOBA_ID": "133",
                                    "DB": "6"
                                },
                                {
                                    "SZOBA_ID": "134",
                                    "DB": "6"
                                },
                                {
                                    "SZOBA_ID": "135",
                                    "DB": "3"
                                },
                                {
                                    "SZOBA_ID": "136",
                                    "DB": "3"
                                },
                                {
                                    "SZOBA_ID": "137",
                                    "DB": "6"
                                },
                                {
                                    "SZOBA_ID": "138",
                                    "DB": "7"
                                },
                                {
                                    "SZOBA_ID": "139",
                                    "DB": "7"
                                },
                                {
                                    "SZOBA_ID": "140",
                                    "DB": "8"
                                },
                                {
                                    "SZOBA_ID": "141",
                                    "DB": "6"
                                },
                                {
                                    "SZOBA_ID": "142",
                                    "DB": "2"
                                },
                                {
                                    "SZOBA_ID": "143",
                                    "DB": "7"
                                },
                                {
                                    "SZOBA_ID": "144",
                                    "DB": "5"
                                },
                                {
                                    "SZOBA_ID": "145",
                                    "DB": "6"
                                },
                                {
                                    "SZOBA_ID": "146",
                                    "DB": "6"
                                },
                                {
                                    "SZOBA_ID": "147",
                                    "DB": "1"
                                },
                                {
                                    "SZOBA_ID": "148",
                                    "DB": "6"
                                },
                                {
                                    "SZOBA_ID": "149",
                                    "DB": "7"
                                },
                                {
                                    "SZOBA_ID": "150",
                                    "DB": "6"
                                },
                                {
                                    "SZOBA_ID": "151",
                                    "DB": "3"
                                },
                                {
                                    "SZOBA_ID": "152",
                                    "DB": "4"
                                },
                                {
                                    "SZOBA_ID": "153",
                                    "DB": "5"
                                },
                                {
                                    "SZOBA_ID": "154",
                                    "DB": "5"
                                },
                                {
                                    "SZOBA_ID": "155",
                                    "DB": "5"
                                },
                                {
                                    "SZOBA_ID": "156",
                                    "DB": "7"
                                },
                                {
                                    "SZOBA_ID": "157",
                                    "DB": "5"
                                },
                                {
                                    "SZOBA_ID": "158",
                                    "DB": "3"
                                },
                                {
                                    "SZOBA_ID": "159",
                                    "DB": "1"
                                },
                                {
                                    "SZOBA_ID": "160",
                                    "DB": "5"
                                },
                                {
                                    "SZOBA_ID": "161",
                                    "DB": "6"
                                },
                                {
                                    "SZOBA_ID": "162",
                                    "DB": "3"
                                },
                                {
                                    "SZOBA_ID": "163",
                                    "DB": "7"
                                },
                                {
                                    "SZOBA_ID": "164",
                                    "DB": "5"
                                },
                                {
                                    "SZOBA_ID": "165",
                                    "DB": "7"
                                },
                                {
                                    "SZOBA_ID": "166",
                                    "DB": "3"
                                },
                                {
                                    "SZOBA_ID": "167",
                                    "DB": "2"
                                },
                                {
                                    "SZOBA_ID": "168",
                                    "DB": "5"
                                },
                                {
                                    "SZOBA_ID": "169",
                                    "DB": "6"
                                },
                                {
                                    "SZOBA_ID": "170",
                                    "DB": "5"
                                },
                                {
                                    "SZOBA_ID": "171",
                                    "DB": "5"
                                },
                                {
                                    "SZOBA_ID": "172",
                                    "DB": "9"
                                },
                                {
                                    "SZOBA_ID": "173",
                                    "DB": "4"
                                },
                                {
                                    "SZOBA_ID": "174",
                                    "DB": "4"
                                },
                                {
                                    "SZOBA_ID": "175",
                                    "DB": "5"
                                },
                                {
                                    "SZOBA_ID": "176",
                                    "DB": "6"
                                },
                                {
                                    "SZOBA_ID": "177",
                                    "DB": "4"
                                },
                                {
                                    "SZOBA_ID": "178",
                                    "DB": "4"
                                },
                                {
                                    "SZOBA_ID": "179",
                                    "DB": "3"
                                },
                                {
                                    "SZOBA_ID": "180",
                                    "DB": "3"
                                },
                                {
                                    "SZOBA_ID": "181",
                                    "DB": "6"
                                },
                                {
                                    "SZOBA_ID": "182",
                                    "DB": "12"
                                },
                                {
                                    "SZOBA_ID": "183",
                                    "DB": "4"
                                },
                                {
                                    "SZOBA_ID": "184",
                                    "DB": "4"
                                },
                                {
                                    "SZOBA_ID": "185",
                                    "DB": "12"
                                },
                                {
                                    "SZOBA_ID": "186",
                                    "DB": "4"
                                },
                                {
                                    "SZOBA_ID": "187",
                                    "DB": "7"
                                },
                                {
                                    "SZOBA_ID": "188",
                                    "DB": "6"
                                },
                                {
                                    "SZOBA_ID": "189",
                                    "DB": "5"
                                },
                                {
                                    "SZOBA_ID": "190",
                                    "DB": "5"
                                },
                                {
                                    "SZOBA_ID": "191",
                                    "DB": "5"
                                },
                                {
                                    "SZOBA_ID": "192",
                                    "DB": "2"
                                },
                                {
                                    "SZOBA_ID": "193",
                                    "DB": "7"
                                },
                                {
                                    "SZOBA_ID": "194",
                                    "DB": "1"
                                },
                                {
                                    "SZOBA_ID": "195",
                                    "DB": "6"
                                },
                                {
                                    "SZOBA_ID": "196",
                                    "DB": "4"
                                },
                                {
                                    "SZOBA_ID": "197",
                                    "DB": "6"
                                },
                                {
                                    "SZOBA_ID": "198",
                                    "DB": "8"
                                },
                                {
                                    "SZOBA_ID": "199",
                                    "DB": "1"
                                },
                                {
                                    "SZOBA_ID": "200",
                                    "DB": "1"
                                },
                                {
                                    "SZOBA_ID": "201",
                                    "DB": "1"
                                },
                                {
                                    "SZOBA_ID": "202",
                                    "DB": "1"
                                },
                                {
                                    "SZOBA_ID": "203",
                                    "DB": "1"
                                },
                                {
                                    "SZOBA_ID": "204",
                                    "DB": "1"
                                },
                                {
                                    "SZOBA_ID": "205",
                                    "DB": "1"
                                },
                                {
                                    "SZOBA_ID": "206",
                                    "DB": "1"
                                },
                                {
                                    "SZOBA_ID": "207",
                                    "DB": "1"
                                },
                                {
                                    "SZOBA_ID": "208",
                                    "DB": "1"
                                },
                                {
                                    "SZOBA_ID": "209",
                                    "DB": "1"
                                },
                                {
                                    "SZOBA_ID": "210",
                                    "DB": "1"
                                },
                                {
                                    "SZOBA_ID": "211",
                                    "DB": "1"
                                },
                                {
                                    "SZOBA_ID": "212",
                                    "DB": "1"
                                },
                                {
                                    "SZOBA_ID": "213",
                                    "DB": "1"
                                },
                                {
                                    "SZOBA_ID": "214",
                                    "DB": "1"
                                },
                                {
                                    "SZOBA_ID": "215",
                                    "DB": "1"
                                },
                                {
                                    "SZOBA_ID": "216",
                                    "DB": "1"
                                },
                                {
                                    "SZOBA_ID": "217",
                                    "DB": "1"
                                },
                                {
                                    "SZOBA_ID": "218",
                                    "DB": "1"
                                },
                                {
                                    "SZOBA_ID": "219",
                                    "DB": "1"
                                },
                                {
                                    "SZOBA_ID": "220",
                                    "DB": "1"
                                },
                                {
                                    "SZOBA_ID": "221",
                                    "DB": "1"
                                },
                                {
                                    "SZOBA_ID": "222",
                                    "DB": "1"
                                },
                                {
                                    "SZOBA_ID": "223",
                                    "DB": "1"
                                },
                                {
                                    "SZOBA_ID": "224",
                                    "DB": "1"
                                },
                                {
                                    "SZOBA_ID": "225",
                                    "DB": "1"
                                },
                                {
                                    "SZOBA_ID": "226",
                                    "DB": "1"
                                },
                                {
                                    "SZOBA_ID": "227",
                                    "DB": "1"
                                },
                                {
                                    "SZOBA_ID": "228",
                                    "DB": "1"
                                },
                                {
                                    "SZOBA_ID": "229",
                                    "DB": "1"
                                },
                                {
                                    "SZOBA_ID": "230",
                                    "DB": "1"
                                },
                                {
                                    "SZOBA_ID": "231",
                                    "DB": "1"
                                },
                                {
                                    "SZOBA_ID": "232",
                                    "DB": "1"
                                },
                                {
                                    "SZOBA_ID": "233",
                                    "DB": "1"
                                },
                                {
                                    "SZOBA_ID": "234",
                                    "DB": "1"
                                },
                                {
                                    "SZOBA_ID": "235",
                                    "DB": "1"
                                },
                                {
                                    "SZOBA_ID": "236",
                                    "DB": "1"
                                },
                                {
                                    "SZOBA_ID": "237",
                                    "DB": "1"
                                },
                                {
                                    "SZOBA_ID": "238",
                                    "DB": "1"
                                },
                                {
                                    "SZOBA_ID": "239",
                                    "DB": "1"
                                },
                                {
                                    "SZOBA_ID": "240",
                                    "DB": "1"
                                },
                                {
                                    "SZOBA_ID": "241",
                                    "DB": "1"
                                },
                                {
                                    "SZOBA_ID": "242",
                                    "DB": "1"
                                },
                                {
                                    "SZOBA_ID": "243",
                                    "DB": "1"
                                },
                                {
                                    "SZOBA_ID": "244",
                                    "DB": "1"
                                },
                                {
                                    "SZOBA_ID": "245",
                                    "DB": "1"
                                },
                                {
                                    "SZOBA_ID": "246",
                                    "DB": "1"
                                },
                                {
                                    "SZOBA_ID": "247",
                                    "DB": "1"
                                },
                                {
                                    "SZOBA_ID": "248",
                                    "DB": "1"
                                },
                                {
                                    "SZOBA_ID": "249",
                                    "DB": "1"
                                },
                                {
                                    "SZOBA_ID": "250",
                                    "DB": "1"
                                },
                                {
                                    "SZOBA_ID": "251",
                                    "DB": "1"
                                },
                                {
                                    "SZOBA_ID": "252",
                                    "DB": "1"
                                },
                                {
                                    "SZOBA_ID": "253",
                                    "DB": "1"
                                },
                                {
                                    "SZOBA_ID": "254",
                                    "DB": "1"
                                },
                                {
                                    "SZOBA_ID": "255",
                                    "DB": "1"
                                },
                                {
                                    "SZOBA_ID": "256",
                                    "DB": "1"
                                },
                                {
                                    "SZOBA_ID": "257",
                                    "DB": "1"
                                },
                                {
                                    "SZOBA_ID": "258",
                                    "DB": "1"
                                },
                                {
                                    "SZOBA_ID": "259",
                                    "DB": "1"
                                },
                                {
                                    "SZOBA_ID": "260",
                                    "DB": "1"
                                },
                                {
                                    "SZOBA_ID": "261",
                                    "DB": "1"
                                },
                                {
                                    "SZOBA_ID": "262",
                                    "DB": "1"
                                },
                                {
                                    "SZOBA_ID": "263",
                                    "DB": "1"
                                },
                                {
                                    "SZOBA_ID": "264",
                                    "DB": "1"
                                },
                                {
                                    "SZOBA_ID": "265",
                                    "DB": "1"
                                },
                                {
                                    "SZOBA_ID": "266",
                                    "DB": "1"
                                },
                                {
                                    "SZOBA_ID": "267",
                                    "DB": "1"
                                },
                                {
                                    "SZOBA_ID": "268",
                                    "DB": "1"
                                },
                                {
                                    "SZOBA_ID": "269",
                                    "DB": "1"
                                },
                                {
                                    "SZOBA_ID": "270",
                                    "DB": "1"
                                },
                                {
                                    "SZOBA_ID": "271",
                                    "DB": "1"
                                },
                                {
                                    "SZOBA_ID": "272",
                                    "DB": "1"
                                },
                                {
                                    "SZOBA_ID": "273",
                                    "DB": "1"
                                },
                                {
                                    "SZOBA_ID": "274",
                                    "DB": "1"
                                },
                                {
                                    "SZOBA_ID": "275",
                                    "DB": "1"
                                },
                                {
                                    "SZOBA_ID": "276",
                                    "DB": "1"
                                },
                                {
                                    "SZOBA_ID": "277",
                                    "DB": "1"
                                },
                                {
                                    "SZOBA_ID": "278",
                                    "DB": "1"
                                },
                                {
                                    "SZOBA_ID": "279",
                                    "DB": "1"
                                },
                                {
                                    "SZOBA_ID": "280",
                                    "DB": "1"
                                },
                                {
                                    "SZOBA_ID": "281",
                                    "DB": "1"
                                },
                                {
                                    "SZOBA_ID": "282",
                                    "DB": "1"
                                },
                                {
                                    "SZOBA_ID": "283",
                                    "DB": "1"
                                },
                                {
                                    "SZOBA_ID": "284",
                                    "DB": "1"
                                },
                                {
                                    "SZOBA_ID": "285",
                                    "DB": "1"
                                },
                                {
                                    "SZOBA_ID": "286",
                                    "DB": "1"
                                },
                                {
                                    "SZOBA_ID": "287",
                                    "DB": "1"
                                },
                                {
                                    "SZOBA_ID": "288",
                                    "DB": "1"
                                },
                                {
                                    "SZOBA_ID": "289",
                                    "DB": "1"
                                },
                                {
                                    "SZOBA_ID": "290",
                                    "DB": "1"
                                },
                                {
                                    "SZOBA_ID": "291",
                                    "DB": "1"
                                },
                                {
                                    "SZOBA_ID": "292",
                                    "DB": "1"
                                },
                                {
                                    "SZOBA_ID": "293",
                                    "DB": "1"
                                },
                                {
                                    "SZOBA_ID": "294",
                                    "DB": "1"
                                }
                            ]
                        },
                        "text/html": [
                            "<table>",
                            "<tr><th>SZOBA_ID</th><th>DB</th></tr>",
                            "<tr><td>1</td><td>8</td></tr>",
                            "<tr><td>2</td><td>4</td></tr>",
                            "<tr><td>3</td><td>8</td></tr>",
                            "<tr><td>4</td><td>6</td></tr>",
                            "<tr><td>5</td><td>4</td></tr>",
                            "<tr><td>6</td><td>6</td></tr>",
                            "<tr><td>7</td><td>6</td></tr>",
                            "<tr><td>8</td><td>5</td></tr>",
                            "<tr><td>9</td><td>6</td></tr>",
                            "<tr><td>10</td><td>4</td></tr>",
                            "<tr><td>11</td><td>4</td></tr>",
                            "<tr><td>12</td><td>9</td></tr>",
                            "<tr><td>13</td><td>4</td></tr>",
                            "<tr><td>14</td><td>3</td></tr>",
                            "<tr><td>15</td><td>6</td></tr>",
                            "<tr><td>16</td><td>5</td></tr>",
                            "<tr><td>17</td><td>6</td></tr>",
                            "<tr><td>18</td><td>6</td></tr>",
                            "<tr><td>19</td><td>6</td></tr>",
                            "<tr><td>20</td><td>5</td></tr>",
                            "<tr><td>21</td><td>4</td></tr>",
                            "<tr><td>22</td><td>6</td></tr>",
                            "<tr><td>23</td><td>3</td></tr>",
                            "<tr><td>24</td><td>3</td></tr>",
                            "<tr><td>25</td><td>2</td></tr>",
                            "<tr><td>26</td><td>2</td></tr>",
                            "<tr><td>27</td><td>7</td></tr>",
                            "<tr><td>28</td><td>6</td></tr>",
                            "<tr><td>29</td><td>6</td></tr>",
                            "<tr><td>30</td><td>3</td></tr>",
                            "<tr><td>31</td><td>3</td></tr>",
                            "<tr><td>32</td><td>1</td></tr>",
                            "<tr><td>33</td><td>6</td></tr>",
                            "<tr><td>34</td><td>4</td></tr>",
                            "<tr><td>35</td><td>9</td></tr>",
                            "<tr><td>36</td><td>6</td></tr>",
                            "<tr><td>37</td><td>3</td></tr>",
                            "<tr><td>38</td><td>8</td></tr>",
                            "<tr><td>39</td><td>7</td></tr>",
                            "<tr><td>40</td><td>4</td></tr>",
                            "<tr><td>41</td><td>2</td></tr>",
                            "<tr><td>42</td><td>6</td></tr>",
                            "<tr><td>43</td><td>8</td></tr>",
                            "<tr><td>44</td><td>6</td></tr>",
                            "<tr><td>45</td><td>5</td></tr>",
                            "<tr><td>46</td><td>4</td></tr>",
                            "<tr><td>47</td><td>2</td></tr>",
                            "<tr><td>48</td><td>9</td></tr>",
                            "<tr><td>49</td><td>7</td></tr>",
                            "<tr><td>50</td><td>4</td></tr>",
                            "<tr><td>51</td><td>5</td></tr>",
                            "<tr><td>52</td><td>5</td></tr>",
                            "<tr><td>53</td><td>2</td></tr>",
                            "<tr><td>54</td><td>6</td></tr>",
                            "<tr><td>55</td><td>8</td></tr>",
                            "<tr><td>56</td><td>2</td></tr>",
                            "<tr><td>57</td><td>4</td></tr>",
                            "<tr><td>58</td><td>13</td></tr>",
                            "<tr><td>59</td><td>7</td></tr>",
                            "<tr><td>60</td><td>1</td></tr>",
                            "<tr><td>61</td><td>5</td></tr>",
                            "<tr><td>62</td><td>5</td></tr>",
                            "<tr><td>63</td><td>4</td></tr>",
                            "<tr><td>64</td><td>6</td></tr>",
                            "<tr><td>65</td><td>1</td></tr>",
                            "<tr><td>66</td><td>4</td></tr>",
                            "<tr><td>67</td><td>6</td></tr>",
                            "<tr><td>68</td><td>3</td></tr>",
                            "<tr><td>69</td><td>4</td></tr>",
                            "<tr><td>70</td><td>11</td></tr>",
                            "<tr><td>71</td><td>3</td></tr>",
                            "<tr><td>72</td><td>4</td></tr>",
                            "<tr><td>73</td><td>4</td></tr>",
                            "<tr><td>74</td><td>9</td></tr>",
                            "<tr><td>75</td><td>3</td></tr>",
                            "<tr><td>76</td><td>3</td></tr>",
                            "<tr><td>77</td><td>6</td></tr>",
                            "<tr><td>78</td><td>6</td></tr>",
                            "<tr><td>79</td><td>5</td></tr>",
                            "<tr><td>80</td><td>7</td></tr>",
                            "<tr><td>81</td><td>5</td></tr>",
                            "<tr><td>82</td><td>6</td></tr>",
                            "<tr><td>83</td><td>8</td></tr>",
                            "<tr><td>84</td><td>4</td></tr>",
                            "<tr><td>85</td><td>4</td></tr>",
                            "<tr><td>86</td><td>5</td></tr>",
                            "<tr><td>87</td><td>5</td></tr>",
                            "<tr><td>88</td><td>8</td></tr>",
                            "<tr><td>89</td><td>8</td></tr>",
                            "<tr><td>90</td><td>4</td></tr>",
                            "<tr><td>91</td><td>4</td></tr>",
                            "<tr><td>92</td><td>6</td></tr>",
                            "<tr><td>93</td><td>5</td></tr>",
                            "<tr><td>94</td><td>10</td></tr>",
                            "<tr><td>95</td><td>4</td></tr>",
                            "<tr><td>96</td><td>7</td></tr>",
                            "<tr><td>97</td><td>7</td></tr>",
                            "<tr><td>98</td><td>4</td></tr>",
                            "<tr><td>99</td><td>5</td></tr>",
                            "<tr><td>100</td><td>4</td></tr>",
                            "<tr><td>101</td><td>3</td></tr>",
                            "<tr><td>102</td><td>2</td></tr>",
                            "<tr><td>103</td><td>4</td></tr>",
                            "<tr><td>104</td><td>4</td></tr>",
                            "<tr><td>105</td><td>2</td></tr>",
                            "<tr><td>106</td><td>6</td></tr>",
                            "<tr><td>107</td><td>5</td></tr>",
                            "<tr><td>108</td><td>2</td></tr>",
                            "<tr><td>109</td><td>7</td></tr>",
                            "<tr><td>110</td><td>8</td></tr>",
                            "<tr><td>111</td><td>5</td></tr>",
                            "<tr><td>112</td><td>5</td></tr>",
                            "<tr><td>113</td><td>5</td></tr>",
                            "<tr><td>114</td><td>4</td></tr>",
                            "<tr><td>115</td><td>7</td></tr>",
                            "<tr><td>116</td><td>2</td></tr>",
                            "<tr><td>117</td><td>8</td></tr>",
                            "<tr><td>118</td><td>7</td></tr>",
                            "<tr><td>119</td><td>5</td></tr>",
                            "<tr><td>120</td><td>6</td></tr>",
                            "<tr><td>121</td><td>8</td></tr>",
                            "<tr><td>122</td><td>9</td></tr>",
                            "<tr><td>123</td><td>5</td></tr>",
                            "<tr><td>124</td><td>6</td></tr>",
                            "<tr><td>125</td><td>1</td></tr>",
                            "<tr><td>126</td><td>6</td></tr>",
                            "<tr><td>127</td><td>7</td></tr>",
                            "<tr><td>128</td><td>5</td></tr>",
                            "<tr><td>129</td><td>4</td></tr>",
                            "<tr><td>130</td><td>6</td></tr>",
                            "<tr><td>131</td><td>5</td></tr>",
                            "<tr><td>132</td><td>6</td></tr>",
                            "<tr><td>133</td><td>6</td></tr>",
                            "<tr><td>134</td><td>6</td></tr>",
                            "<tr><td>135</td><td>3</td></tr>",
                            "<tr><td>136</td><td>3</td></tr>",
                            "<tr><td>137</td><td>6</td></tr>",
                            "<tr><td>138</td><td>7</td></tr>",
                            "<tr><td>139</td><td>7</td></tr>",
                            "<tr><td>140</td><td>8</td></tr>",
                            "<tr><td>141</td><td>6</td></tr>",
                            "<tr><td>142</td><td>2</td></tr>",
                            "<tr><td>143</td><td>7</td></tr>",
                            "<tr><td>144</td><td>5</td></tr>",
                            "<tr><td>145</td><td>6</td></tr>",
                            "<tr><td>146</td><td>6</td></tr>",
                            "<tr><td>147</td><td>1</td></tr>",
                            "<tr><td>148</td><td>6</td></tr>",
                            "<tr><td>149</td><td>7</td></tr>",
                            "<tr><td>150</td><td>6</td></tr>",
                            "<tr><td>151</td><td>3</td></tr>",
                            "<tr><td>152</td><td>4</td></tr>",
                            "<tr><td>153</td><td>5</td></tr>",
                            "<tr><td>154</td><td>5</td></tr>",
                            "<tr><td>155</td><td>5</td></tr>",
                            "<tr><td>156</td><td>7</td></tr>",
                            "<tr><td>157</td><td>5</td></tr>",
                            "<tr><td>158</td><td>3</td></tr>",
                            "<tr><td>159</td><td>1</td></tr>",
                            "<tr><td>160</td><td>5</td></tr>",
                            "<tr><td>161</td><td>6</td></tr>",
                            "<tr><td>162</td><td>3</td></tr>",
                            "<tr><td>163</td><td>7</td></tr>",
                            "<tr><td>164</td><td>5</td></tr>",
                            "<tr><td>165</td><td>7</td></tr>",
                            "<tr><td>166</td><td>3</td></tr>",
                            "<tr><td>167</td><td>2</td></tr>",
                            "<tr><td>168</td><td>5</td></tr>",
                            "<tr><td>169</td><td>6</td></tr>",
                            "<tr><td>170</td><td>5</td></tr>",
                            "<tr><td>171</td><td>5</td></tr>",
                            "<tr><td>172</td><td>9</td></tr>",
                            "<tr><td>173</td><td>4</td></tr>",
                            "<tr><td>174</td><td>4</td></tr>",
                            "<tr><td>175</td><td>5</td></tr>",
                            "<tr><td>176</td><td>6</td></tr>",
                            "<tr><td>177</td><td>4</td></tr>",
                            "<tr><td>178</td><td>4</td></tr>",
                            "<tr><td>179</td><td>3</td></tr>",
                            "<tr><td>180</td><td>3</td></tr>",
                            "<tr><td>181</td><td>6</td></tr>",
                            "<tr><td>182</td><td>12</td></tr>",
                            "<tr><td>183</td><td>4</td></tr>",
                            "<tr><td>184</td><td>4</td></tr>",
                            "<tr><td>185</td><td>12</td></tr>",
                            "<tr><td>186</td><td>4</td></tr>",
                            "<tr><td>187</td><td>7</td></tr>",
                            "<tr><td>188</td><td>6</td></tr>",
                            "<tr><td>189</td><td>5</td></tr>",
                            "<tr><td>190</td><td>5</td></tr>",
                            "<tr><td>191</td><td>5</td></tr>",
                            "<tr><td>192</td><td>2</td></tr>",
                            "<tr><td>193</td><td>7</td></tr>",
                            "<tr><td>194</td><td>1</td></tr>",
                            "<tr><td>195</td><td>6</td></tr>",
                            "<tr><td>196</td><td>4</td></tr>",
                            "<tr><td>197</td><td>6</td></tr>",
                            "<tr><td>198</td><td>8</td></tr>",
                            "<tr><td>199</td><td>1</td></tr>",
                            "<tr><td>200</td><td>1</td></tr>",
                            "<tr><td>201</td><td>1</td></tr>",
                            "<tr><td>202</td><td>1</td></tr>",
                            "<tr><td>203</td><td>1</td></tr>",
                            "<tr><td>204</td><td>1</td></tr>",
                            "<tr><td>205</td><td>1</td></tr>",
                            "<tr><td>206</td><td>1</td></tr>",
                            "<tr><td>207</td><td>1</td></tr>",
                            "<tr><td>208</td><td>1</td></tr>",
                            "<tr><td>209</td><td>1</td></tr>",
                            "<tr><td>210</td><td>1</td></tr>",
                            "<tr><td>211</td><td>1</td></tr>",
                            "<tr><td>212</td><td>1</td></tr>",
                            "<tr><td>213</td><td>1</td></tr>",
                            "<tr><td>214</td><td>1</td></tr>",
                            "<tr><td>215</td><td>1</td></tr>",
                            "<tr><td>216</td><td>1</td></tr>",
                            "<tr><td>217</td><td>1</td></tr>",
                            "<tr><td>218</td><td>1</td></tr>",
                            "<tr><td>219</td><td>1</td></tr>",
                            "<tr><td>220</td><td>1</td></tr>",
                            "<tr><td>221</td><td>1</td></tr>",
                            "<tr><td>222</td><td>1</td></tr>",
                            "<tr><td>223</td><td>1</td></tr>",
                            "<tr><td>224</td><td>1</td></tr>",
                            "<tr><td>225</td><td>1</td></tr>",
                            "<tr><td>226</td><td>1</td></tr>",
                            "<tr><td>227</td><td>1</td></tr>",
                            "<tr><td>228</td><td>1</td></tr>",
                            "<tr><td>229</td><td>1</td></tr>",
                            "<tr><td>230</td><td>1</td></tr>",
                            "<tr><td>231</td><td>1</td></tr>",
                            "<tr><td>232</td><td>1</td></tr>",
                            "<tr><td>233</td><td>1</td></tr>",
                            "<tr><td>234</td><td>1</td></tr>",
                            "<tr><td>235</td><td>1</td></tr>",
                            "<tr><td>236</td><td>1</td></tr>",
                            "<tr><td>237</td><td>1</td></tr>",
                            "<tr><td>238</td><td>1</td></tr>",
                            "<tr><td>239</td><td>1</td></tr>",
                            "<tr><td>240</td><td>1</td></tr>",
                            "<tr><td>241</td><td>1</td></tr>",
                            "<tr><td>242</td><td>1</td></tr>",
                            "<tr><td>243</td><td>1</td></tr>",
                            "<tr><td>244</td><td>1</td></tr>",
                            "<tr><td>245</td><td>1</td></tr>",
                            "<tr><td>246</td><td>1</td></tr>",
                            "<tr><td>247</td><td>1</td></tr>",
                            "<tr><td>248</td><td>1</td></tr>",
                            "<tr><td>249</td><td>1</td></tr>",
                            "<tr><td>250</td><td>1</td></tr>",
                            "<tr><td>251</td><td>1</td></tr>",
                            "<tr><td>252</td><td>1</td></tr>",
                            "<tr><td>253</td><td>1</td></tr>",
                            "<tr><td>254</td><td>1</td></tr>",
                            "<tr><td>255</td><td>1</td></tr>",
                            "<tr><td>256</td><td>1</td></tr>",
                            "<tr><td>257</td><td>1</td></tr>",
                            "<tr><td>258</td><td>1</td></tr>",
                            "<tr><td>259</td><td>1</td></tr>",
                            "<tr><td>260</td><td>1</td></tr>",
                            "<tr><td>261</td><td>1</td></tr>",
                            "<tr><td>262</td><td>1</td></tr>",
                            "<tr><td>263</td><td>1</td></tr>",
                            "<tr><td>264</td><td>1</td></tr>",
                            "<tr><td>265</td><td>1</td></tr>",
                            "<tr><td>266</td><td>1</td></tr>",
                            "<tr><td>267</td><td>1</td></tr>",
                            "<tr><td>268</td><td>1</td></tr>",
                            "<tr><td>269</td><td>1</td></tr>",
                            "<tr><td>270</td><td>1</td></tr>",
                            "<tr><td>271</td><td>1</td></tr>",
                            "<tr><td>272</td><td>1</td></tr>",
                            "<tr><td>273</td><td>1</td></tr>",
                            "<tr><td>274</td><td>1</td></tr>",
                            "<tr><td>275</td><td>1</td></tr>",
                            "<tr><td>276</td><td>1</td></tr>",
                            "<tr><td>277</td><td>1</td></tr>",
                            "<tr><td>278</td><td>1</td></tr>",
                            "<tr><td>279</td><td>1</td></tr>",
                            "<tr><td>280</td><td>1</td></tr>",
                            "<tr><td>281</td><td>1</td></tr>",
                            "<tr><td>282</td><td>1</td></tr>",
                            "<tr><td>283</td><td>1</td></tr>",
                            "<tr><td>284</td><td>1</td></tr>",
                            "<tr><td>285</td><td>1</td></tr>",
                            "<tr><td>286</td><td>1</td></tr>",
                            "<tr><td>287</td><td>1</td></tr>",
                            "<tr><td>288</td><td>1</td></tr>",
                            "<tr><td>289</td><td>1</td></tr>",
                            "<tr><td>290</td><td>1</td></tr>",
                            "<tr><td>291</td><td>1</td></tr>",
                            "<tr><td>292</td><td>1</td></tr>",
                            "<tr><td>293</td><td>1</td></tr>",
                            "<tr><td>294</td><td>1</td></tr>",
                            "</table>"
                        ]
                    }
                }
            ],
            "execution_count": 11
        },
        {
            "cell_type": "code",
            "source": [
                "SELECT v.*\r\n",
                "FROM Foglalas f JOIN Vendeg v ON f.UGYFEL_FK = v.USERNEV\r\n",
                "WHERE szoba_FK =\r\n",
                "(SELECT TOP 1 SZOBA_ID\r\n",
                "FROM Szoba sz\r\n",
                "WHERE KLIMAS = 'i'\r\n",
                "ORDER BY FEROHELY DESC)"
            ],
            "metadata": {
                "azdata_cell_guid": "1a85bd26-051f-4390-adb3-d74faa2a6901",
                "language": "sql"
            },
            "outputs": [
                {
                    "output_type": "display_data",
                    "data": {
                        "text/html": "(3 rows affected)"
                    },
                    "metadata": {}
                },
                {
                    "output_type": "display_data",
                    "data": {
                        "text/html": "Total execution time: 00:00:00.013"
                    },
                    "metadata": {}
                },
                {
                    "output_type": "execute_result",
                    "metadata": {},
                    "execution_count": 15,
                    "data": {
                        "application/vnd.dataresource+json": {
                            "schema": {
                                "fields": [
                                    {
                                        "name": "USERNEV"
                                    },
                                    {
                                        "name": "NEV"
                                    },
                                    {
                                        "name": "EMAIL"
                                    },
                                    {
                                        "name": "SZAML_CIM"
                                    },
                                    {
                                        "name": "SZUL_DAT"
                                    }
                                ]
                            },
                            "data": [
                                {
                                    "USERNEV": "JOZSEFG",
                                    "NEV": "Gyuris József",
                                    "EMAIL": "józsef.gyuris@mail.hu",
                                    "SZAML_CIM": "2660 Balassagyarmat Petőfi utca 1/2.",
                                    "SZUL_DAT": "1975-05-26"
                                },
                                {
                                    "USERNEV": "PETERB",
                                    "NEV": "Berendi Péter",
                                    "EMAIL": "péter.berendi@mail.hu",
                                    "SZAML_CIM": "3980 Sátoraljaújhely Vasút utca 4/10.",
                                    "SZUL_DAT": "1969-01-01"
                                },
                                {
                                    "USERNEV": "tunde",
                                    "NEV": "Turcsik Tünde",
                                    "EMAIL": "tunde@gmail.com",
                                    "SZAML_CIM": "7130 Tolna Fő út 122.",
                                    "SZUL_DAT": "1974-02-12"
                                }
                            ]
                        },
                        "text/html": [
                            "<table>",
                            "<tr><th>USERNEV</th><th>NEV</th><th>EMAIL</th><th>SZAML_CIM</th><th>SZUL_DAT</th></tr>",
                            "<tr><td>JOZSEFG</td><td>Gyuris József</td><td>józsef.gyuris@mail.hu</td><td>2660 Balassagyarmat Petőfi utca 1/2.</td><td>1975-05-26</td></tr>",
                            "<tr><td>PETERB</td><td>Berendi Péter</td><td>péter.berendi@mail.hu</td><td>3980 Sátoraljaújhely Vasút utca 4/10.</td><td>1969-01-01</td></tr>",
                            "<tr><td>tunde</td><td>Turcsik Tünde</td><td>tunde@gmail.com</td><td>7130 Tolna Fő út 122.</td><td>1974-02-12</td></tr>",
                            "</table>"
                        ]
                    }
                }
            ],
            "execution_count": 15
        },
        {
            "cell_type": "code",
            "source": [
                "CREATE TABLE #MASKED_GUEST\r\n",
                "(\r\n",
                "    usernev nvarchar(50) PRIMARY KEY,\r\n",
                "    nev nvarchar(50) MASKED WITH (FUNCTION = 'partial(2, \"XXXX\", 3)'),\r\n",
                "    email nvarchar(60),\r\n",
                "    szaml_cim nvarchar(100),\r\n",
                "    szul_dat date\r\n",
                ")"
            ],
            "metadata": {
                "azdata_cell_guid": "f32491c3-3a4e-4e35-b7ea-f8bfaa919e86",
                "language": "sql"
            },
            "outputs": [
                {
                    "output_type": "error",
                    "evalue": "Msg 2714, Level 16, State 6, Line 1\r\nThere is already an object named '#MASKED_GUEST' in the database.",
                    "ename": "",
                    "traceback": []
                },
                {
                    "output_type": "display_data",
                    "data": {
                        "text/html": "Total execution time: 00:00:00.008"
                    },
                    "metadata": {}
                }
            ],
            "execution_count": 26
        },
        {
            "cell_type": "code",
            "source": [
                "SELECT IIF(szh.SZALLAS_NEV IS NULL, 'Végösszeg', szh.SZALLAS_NEV) AS \"Szállás neve\",\r\n",
                "       IIF(sz.POTAGY IS NULL, 0, sz.POTAGY) AS \"Pótágyak\",\r\n",
                "       SUM(f.FELNOTT_SZAM + f.GYERMEK_SZAM) AS \"Hány fő\"\r\n",
                "FROM Foglalas f JOIN Szoba sz ON f.szoba_fk = sz.szoba_id\r\n",
                "                JOIN Szallashely szh ON sz.SZALLAS_FK = szh.SZALLAS_ID\r\n",
                "GROUP BY ROLLUP(szh.SZALLAS_NEV, sz.POTAGY)\r\n",
                "ORDER BY szh.SZALLAS_NEV, sz.POTAGY"
            ],
            "metadata": {
                "azdata_cell_guid": "90d00a11-4823-4757-8ed2-12447857862f",
                "language": "sql"
            },
            "outputs": [
                {
                    "output_type": "display_data",
                    "data": {
                        "text/html": "(41 rows affected)"
                    },
                    "metadata": {}
                },
                {
                    "output_type": "display_data",
                    "data": {
                        "text/html": "Total execution time: 00:00:00.014"
                    },
                    "metadata": {}
                },
                {
                    "output_type": "execute_result",
                    "metadata": {},
                    "execution_count": 49,
                    "data": {
                        "application/vnd.dataresource+json": {
                            "schema": {
                                "fields": [
                                    {
                                        "name": "Szállás neve"
                                    },
                                    {
                                        "name": "Pótágyak"
                                    },
                                    {
                                        "name": "Hány fő"
                                    }
                                ]
                            },
                            "data": [
                                {
                                    "Szállás neve": "Végösszeg",
                                    "Pótágyak": "0",
                                    "Hány fő": "2490"
                                },
                                {
                                    "Szállás neve": "Családi Ház",
                                    "Pótágyak": "0",
                                    "Hány fő": "52"
                                },
                                {
                                    "Szállás neve": "Családi Ház",
                                    "Pótágyak": "0",
                                    "Hány fő": "10"
                                },
                                {
                                    "Szállás neve": "Családi Ház",
                                    "Pótágyak": "1",
                                    "Hány fő": "31"
                                },
                                {
                                    "Szállás neve": "Családi Ház",
                                    "Pótágyak": "2",
                                    "Hány fő": "11"
                                },
                                {
                                    "Szállás neve": "Fortuna Apartman",
                                    "Pótágyak": "0",
                                    "Hány fő": "106"
                                },
                                {
                                    "Szállás neve": "Fortuna Apartman",
                                    "Pótágyak": "0",
                                    "Hány fő": "18"
                                },
                                {
                                    "Szállás neve": "Fortuna Apartman",
                                    "Pótágyak": "1",
                                    "Hány fő": "52"
                                },
                                {
                                    "Szállás neve": "Fortuna Apartman",
                                    "Pótágyak": "2",
                                    "Hány fő": "36"
                                },
                                {
                                    "Szállás neve": "Fortuna Panzió",
                                    "Pótágyak": "0",
                                    "Hány fő": "311"
                                },
                                {
                                    "Szállás neve": "Fortuna Panzió",
                                    "Pótágyak": "0",
                                    "Hány fő": "158"
                                },
                                {
                                    "Szállás neve": "Fortuna panzió",
                                    "Pótágyak": "1",
                                    "Hány fő": "113"
                                },
                                {
                                    "Szállás neve": "Fortuna panzió",
                                    "Pótágyak": "2",
                                    "Hány fő": "40"
                                },
                                {
                                    "Szállás neve": "Gold Hotel",
                                    "Pótágyak": "0",
                                    "Hány fő": "428"
                                },
                                {
                                    "Szállás neve": "Gold Hotel",
                                    "Pótágyak": "0",
                                    "Hány fő": "216"
                                },
                                {
                                    "Szállás neve": "Gold Hotel",
                                    "Pótágyak": "1",
                                    "Hány fő": "93"
                                },
                                {
                                    "Szállás neve": "Gold Hotel",
                                    "Pótágyak": "2",
                                    "Hány fő": "119"
                                },
                                {
                                    "Szállás neve": "Hotel Három Hattyú",
                                    "Pótágyak": "0",
                                    "Hány fő": "504"
                                },
                                {
                                    "Szállás neve": "Hotel Három Hattyú",
                                    "Pótágyak": "0",
                                    "Hány fő": "183"
                                },
                                {
                                    "Szállás neve": "Hotel Három Hattyú",
                                    "Pótágyak": "1",
                                    "Hány fő": "258"
                                },
                                {
                                    "Szállás neve": "Hotel Három Hattyú",
                                    "Pótágyak": "2",
                                    "Hány fő": "63"
                                },
                                {
                                    "Szállás neve": "Jáde panzió",
                                    "Pótágyak": "0",
                                    "Hány fő": "66"
                                },
                                {
                                    "Szállás neve": "Jáde panzió",
                                    "Pótágyak": "0",
                                    "Hány fő": "66"
                                },
                                {
                                    "Szállás neve": "Kentaur Hotel",
                                    "Pótágyak": "0",
                                    "Hány fő": "420"
                                },
                                {
                                    "Szállás neve": "Kentaur Hotel",
                                    "Pótágyak": "0",
                                    "Hány fő": "168"
                                },
                                {
                                    "Szállás neve": "Kentaur Hotel",
                                    "Pótágyak": "1",
                                    "Hány fő": "224"
                                },
                                {
                                    "Szállás neve": "Kentaur Hotel",
                                    "Pótágyak": "2",
                                    "Hány fő": "28"
                                },
                                {
                                    "Szállás neve": "Lagúna Hotel",
                                    "Pótágyak": "0",
                                    "Hány fő": "291"
                                },
                                {
                                    "Szállás neve": "Lagúna Hotel",
                                    "Pótágyak": "0",
                                    "Hány fő": "105"
                                },
                                {
                                    "Szállás neve": "Lagúna Hotel",
                                    "Pótágyak": "1",
                                    "Hány fő": "150"
                                },
                                {
                                    "Szállás neve": "Lagúna Hotel",
                                    "Pótágyak": "2",
                                    "Hány fő": "36"
                                },
                                {
                                    "Szállás neve": "Partiszél Vendégház",
                                    "Pótágyak": "0",
                                    "Hány fő": "63"
                                },
                                {
                                    "Szállás neve": "Partiszél Vendégház",
                                    "Pótágyak": "0",
                                    "Hány fő": "31"
                                },
                                {
                                    "Szállás neve": "Partiszél Vendégház",
                                    "Pótágyak": "1",
                                    "Hány fő": "17"
                                },
                                {
                                    "Szállás neve": "Partiszél Vendégház",
                                    "Pótágyak": "2",
                                    "Hány fő": "15"
                                },
                                {
                                    "Szállás neve": "Sába-Ház",
                                    "Pótágyak": "0",
                                    "Hány fő": "166"
                                },
                                {
                                    "Szállás neve": "Sába-Ház",
                                    "Pótágyak": "0",
                                    "Hány fő": "67"
                                },
                                {
                                    "Szállás neve": "Sába-Ház",
                                    "Pótágyak": "1",
                                    "Hány fő": "99"
                                },
                                {
                                    "Szállás neve": "Szieszta Apartmanház",
                                    "Pótágyak": "0",
                                    "Hány fő": "83"
                                },
                                {
                                    "Szállás neve": "Szieszta Apartmanház",
                                    "Pótágyak": "0",
                                    "Hány fő": "64"
                                },
                                {
                                    "Szállás neve": "Szieszta Apartmanház",
                                    "Pótágyak": "1",
                                    "Hány fő": "19"
                                }
                            ]
                        },
                        "text/html": [
                            "<table>",
                            "<tr><th>Szállás neve</th><th>Pótágyak</th><th>Hány fő</th></tr>",
                            "<tr><td>Végösszeg</td><td>0</td><td>2490</td></tr>",
                            "<tr><td>Családi Ház</td><td>0</td><td>52</td></tr>",
                            "<tr><td>Családi Ház</td><td>0</td><td>10</td></tr>",
                            "<tr><td>Családi Ház</td><td>1</td><td>31</td></tr>",
                            "<tr><td>Családi Ház</td><td>2</td><td>11</td></tr>",
                            "<tr><td>Fortuna Apartman</td><td>0</td><td>106</td></tr>",
                            "<tr><td>Fortuna Apartman</td><td>0</td><td>18</td></tr>",
                            "<tr><td>Fortuna Apartman</td><td>1</td><td>52</td></tr>",
                            "<tr><td>Fortuna Apartman</td><td>2</td><td>36</td></tr>",
                            "<tr><td>Fortuna Panzió</td><td>0</td><td>311</td></tr>",
                            "<tr><td>Fortuna Panzió</td><td>0</td><td>158</td></tr>",
                            "<tr><td>Fortuna panzió</td><td>1</td><td>113</td></tr>",
                            "<tr><td>Fortuna panzió</td><td>2</td><td>40</td></tr>",
                            "<tr><td>Gold Hotel</td><td>0</td><td>428</td></tr>",
                            "<tr><td>Gold Hotel</td><td>0</td><td>216</td></tr>",
                            "<tr><td>Gold Hotel</td><td>1</td><td>93</td></tr>",
                            "<tr><td>Gold Hotel</td><td>2</td><td>119</td></tr>",
                            "<tr><td>Hotel Három Hattyú</td><td>0</td><td>504</td></tr>",
                            "<tr><td>Hotel Három Hattyú</td><td>0</td><td>183</td></tr>",
                            "<tr><td>Hotel Három Hattyú</td><td>1</td><td>258</td></tr>",
                            "<tr><td>Hotel Három Hattyú</td><td>2</td><td>63</td></tr>",
                            "<tr><td>Jáde panzió</td><td>0</td><td>66</td></tr>",
                            "<tr><td>Jáde panzió</td><td>0</td><td>66</td></tr>",
                            "<tr><td>Kentaur Hotel</td><td>0</td><td>420</td></tr>",
                            "<tr><td>Kentaur Hotel</td><td>0</td><td>168</td></tr>",
                            "<tr><td>Kentaur Hotel</td><td>1</td><td>224</td></tr>",
                            "<tr><td>Kentaur Hotel</td><td>2</td><td>28</td></tr>",
                            "<tr><td>Lagúna Hotel</td><td>0</td><td>291</td></tr>",
                            "<tr><td>Lagúna Hotel</td><td>0</td><td>105</td></tr>",
                            "<tr><td>Lagúna Hotel</td><td>1</td><td>150</td></tr>",
                            "<tr><td>Lagúna Hotel</td><td>2</td><td>36</td></tr>",
                            "<tr><td>Partiszél Vendégház</td><td>0</td><td>63</td></tr>",
                            "<tr><td>Partiszél Vendégház</td><td>0</td><td>31</td></tr>",
                            "<tr><td>Partiszél Vendégház</td><td>1</td><td>17</td></tr>",
                            "<tr><td>Partiszél Vendégház</td><td>2</td><td>15</td></tr>",
                            "<tr><td>Sába-Ház</td><td>0</td><td>166</td></tr>",
                            "<tr><td>Sába-Ház</td><td>0</td><td>67</td></tr>",
                            "<tr><td>Sába-Ház</td><td>1</td><td>99</td></tr>",
                            "<tr><td>Szieszta Apartmanház</td><td>0</td><td>83</td></tr>",
                            "<tr><td>Szieszta Apartmanház</td><td>0</td><td>64</td></tr>",
                            "<tr><td>Szieszta Apartmanház</td><td>1</td><td>19</td></tr>",
                            "</table>"
                        ]
                    }
                }
            ],
            "execution_count": 49
        },
        {
            "cell_type": "code",
            "source": [
                "MATCH (tom:Person {name: \"Tom Hanks\"})-[:ACTED_IN]->(movie:Movie)<-[:ACTED_IN]-(kollega:Person)\r\n",
                "WHERE kollega.name <> \"Tom Hanks\"\r\n",
                "RETURN DISTINCT kollega.name AS Kollega"
            ],
            "metadata": {
                "azdata_cell_guid": "4d2efb64-f363-4db9-94cb-ca4603333a5a",
                "language": "sql"
            },
            "outputs": [],
            "execution_count": null
        },
        {
            "cell_type": "code",
            "source": [
                "HSET irod:1 ID 1 nev \"Első Író Neve\" nemzetiseg \"ELső Nemzetiség\"\r\n",
                "\r\n",
                "HSET irod:2 ID 2 nev \"Második Író Neve\" nemzetiseg \"Második Nemzetiség\"\r\n",
                "\r\n",
                "HSET konyv:1 ID 1 cim \"Első Cím\" mufaj \"Első műfaj\" IRO_ID 1\r\n",
                "\r\n",
                "HSET konyv:2 ID 2 cim \"Második Cím\" mufaj \"Második műfaj\" IRO_ID 2"
            ],
            "metadata": {
                "azdata_cell_guid": "4505de48-f5df-4c72-acb4-c1b403bb91ab",
                "language": "sql"
            },
            "outputs": [],
            "execution_count": null
        }
    ]
}