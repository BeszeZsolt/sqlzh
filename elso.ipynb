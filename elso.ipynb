{
    "metadata": {
        "kernelspec": {
            "name": "SQL",
            "display_name": "SQL",
            "language": "sql"
        },
        "language_info": {
            "name": "sql",
            "version": ""
        }
    },
    "nbformat_minor": 2,
    "nbformat": 4,
    "cells": [
        {
            "cell_type": "code",
            "source": [
                "próba"
            ],
            "metadata": {
                "azdata_cell_guid": "f3f9b4af-5e25-4e9e-95a9-46ee29ebfbd1",
                "language": "sql"
            },
            "outputs": [],
            "execution_count": null
        }
    ]
}